{
 "cells": [
  {
   "cell_type": "markdown",
   "id": "42d91c9c-8d69-4e22-8547-4c0aff089586",
   "metadata": {},
   "source": [
    "# Stock analysis\n",
    "- dialy price range (difference beetwen close and open)\n",
    "- day with highest close price\n",
    "- average volume\n",
    "- average daily price\n",
    "- turnover (avg daily price*volume)"
   ]
  }
 ],
 "metadata": {
  "kernelspec": {
   "display_name": "Python 3 (ipykernel)",
   "language": "python",
   "name": "python3"
  },
  "language_info": {
   "codemirror_mode": {
    "name": "ipython",
    "version": 3
   },
   "file_extension": ".py",
   "mimetype": "text/x-python",
   "name": "python",
   "nbconvert_exporter": "python",
   "pygments_lexer": "ipython3",
   "version": "3.11.5"
  }
 },
 "nbformat": 4,
 "nbformat_minor": 5
}
