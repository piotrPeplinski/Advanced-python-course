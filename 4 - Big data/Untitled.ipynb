{
 "cells": [
  {
   "cell_type": "markdown",
   "id": "6112d0c9-0cf3-4713-9634-193c1d98ad1e",
   "metadata": {},
   "source": [
    "## Company expenses for employees in USA each year"
   ]
  },
  {
   "cell_type": "markdown",
   "id": "699e2748-6607-479d-a9b0-a1ddb73c6286",
   "metadata": {},
   "source": [
    "## Compare expenses in each country. Display on bar chart in chosen currency"
   ]
  },
  {
   "cell_type": "code",
   "execution_count": null,
   "id": "5f5749b7-5e76-4e60-bdd5-b445f5d17ff8",
   "metadata": {},
   "outputs": [],
   "source": []
  }
 ],
 "metadata": {
  "kernelspec": {
   "display_name": "Python 3 (ipykernel)",
   "language": "python",
   "name": "python3"
  },
  "language_info": {
   "codemirror_mode": {
    "name": "ipython",
    "version": 3
   },
   "file_extension": ".py",
   "mimetype": "text/x-python",
   "name": "python",
   "nbconvert_exporter": "python",
   "pygments_lexer": "ipython3",
   "version": "3.11.5"
  }
 },
 "nbformat": 4,
 "nbformat_minor": 5
}
