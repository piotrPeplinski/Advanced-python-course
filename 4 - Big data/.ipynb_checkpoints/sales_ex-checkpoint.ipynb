{
 "cells": [
  {
   "cell_type": "code",
   "execution_count": 1,
   "id": "5673c8fd-70fe-4f6c-bbbd-ff3002870891",
   "metadata": {},
   "outputs": [],
   "source": [
    "import numpy as np"
   ]
  },
  {
   "cell_type": "code",
   "execution_count": 3,
   "id": "25f8c2ab-d632-4825-a63d-37908104b487",
   "metadata": {},
   "outputs": [
    {
     "data": {
      "text/plain": [
       "array([(1, 10, 25.5 , '2023-09-01'), (2,  5, 12.75, '2023-09-01'),\n",
       "       (1,  8, 25.5 , '2023-09-02'), (3, 12,  9.99, '2023-09-02'),\n",
       "       (2,  6, 12.75, '2023-09-03'), (1, 15, 25.5 , '2023-09-03'),\n",
       "       (3, 10,  9.99, '2023-09-03')],\n",
       "      dtype=[('product_id', '<i8'), ('quantity_sold', '<i8'), ('price_per_unit', '<f8'), ('date_of_sale', '<M8[D]')])"
      ]
     },
     "execution_count": 3,
     "metadata": {},
     "output_type": "execute_result"
    }
   ],
   "source": [
    "dtype = [('product_id', int),('quantity_sold', int),('price_per_unit', float), ('date_of_sale', 'datetime64[D]')]\n",
    "sales_info = np.genfromtxt('data/sales.csv', delimiter=',', dtype=dtype, names=True)\n",
    "sales_info"
   ]
  },
  {
   "cell_type": "code",
   "execution_count": 5,
   "id": "ba2c34f7-a9cf-4b18-a3a7-10e00312b336",
   "metadata": {},
   "outputs": [
    {
     "data": {
      "text/plain": [
       "array([255.  ,  63.75, 204.  , 119.88,  76.5 , 382.5 ,  99.9 ])"
      ]
     },
     "execution_count": 5,
     "metadata": {},
     "output_type": "execute_result"
    }
   ],
   "source": [
    "total_product_sales = sales_info['quantity_sold'] * sales_info['price_per_unit']\n",
    "total_product_sales"
   ]
  },
  {
   "cell_type": "code",
   "execution_count": 11,
   "id": "f582c9bf-70a1-4359-98f2-0f6e6a75ebdf",
   "metadata": {},
   "outputs": [
    {
     "data": {
      "text/plain": [
       "1"
      ]
     },
     "execution_count": 11,
     "metadata": {},
     "output_type": "execute_result"
    }
   ],
   "source": [
    "highest = np.argmax(total_product_sales)\n",
    "\n",
    "highest_revenue = sales_info['product_id'][highest]\n",
    "highest_revenue"
   ]
  },
  {
   "cell_type": "code",
   "execution_count": 12,
   "id": "656be7bc-f96f-4600-8f46-e0d673ac05f2",
   "metadata": {},
   "outputs": [
    {
     "data": {
      "text/plain": [
       "array(['2023-09-01', '2023-09-02', '2023-09-03'], dtype='datetime64[D]')"
      ]
     },
     "execution_count": 12,
     "metadata": {},
     "output_type": "execute_result"
    }
   ],
   "source": [
    "dates = np.unique(sales_info['date_of_sale'])\n",
    "dates"
   ]
  },
  {
   "cell_type": "code",
   "execution_count": 14,
   "id": "2f8a018c-33d7-471c-a9f4-95150699e5e8",
   "metadata": {},
   "outputs": [
    {
     "data": {
      "text/plain": [
       "[318.75, 323.88, 558.9]"
      ]
     },
     "execution_count": 14,
     "metadata": {},
     "output_type": "execute_result"
    }
   ],
   "source": [
    "list_expression = [\n",
    "    np.sum(total_product_sales[sales_info['date_of_sale']==date])\n",
    "    for date in dates\n",
    "]\n",
    "list_expression"
   ]
  },
  {
   "cell_type": "code",
   "execution_count": null,
   "id": "ee71b4a4-bf3b-451c-83e5-ad11e449e7c3",
   "metadata": {},
   "outputs": [],
   "source": []
  }
 ],
 "metadata": {
  "kernelspec": {
   "display_name": "Python 3 (ipykernel)",
   "language": "python",
   "name": "python3"
  },
  "language_info": {
   "codemirror_mode": {
    "name": "ipython",
    "version": 3
   },
   "file_extension": ".py",
   "mimetype": "text/x-python",
   "name": "python",
   "nbconvert_exporter": "python",
   "pygments_lexer": "ipython3",
   "version": "3.11.5"
  }
 },
 "nbformat": 4,
 "nbformat_minor": 5
}
