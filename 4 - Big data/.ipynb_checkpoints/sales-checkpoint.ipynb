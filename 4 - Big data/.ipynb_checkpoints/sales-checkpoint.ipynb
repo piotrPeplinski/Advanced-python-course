{
 "cells": [
  {
   "cell_type": "code",
   "execution_count": 3,
   "id": "59d90dd2-0381-4716-89ab-ea7198f729dc",
   "metadata": {},
   "outputs": [
    {
     "name": "stdout",
     "output_type": "stream",
     "text": [
      "[(1, 10, 25.5 , '2023-09-01') (2,  5, 12.75, '2023-09-01')\n",
      " (1,  8, 25.5 , '2023-09-02') (3, 12,  9.99, '2023-09-02')\n",
      " (2,  6, 12.75, '2023-09-03') (1, 15, 25.5 , '2023-09-03')\n",
      " (3, 10,  9.99, '2023-09-03')]\n",
      "Total sales for each product:\n",
      "[255.    63.75 204.   119.88  76.5  382.5   99.9 ]\n",
      "\n",
      "Product with the highest total sales:\n",
      "Product ID: 1, Total Sales: 382.50\n",
      "\n",
      "Total sales for each day:\n",
      "2023-09-01: 318.75\n",
      "2023-09-02: 323.88\n",
      "2023-09-03: 558.90\n"
     ]
    }
   ],
   "source": [
    "import numpy as np\n",
    "import csv\n",
    "\n",
    "# Step 1: Read the CSV file into a NumPy array\n",
    "# Assume the CSV file has headers and is named \"sales_data.csv\"\n",
    "\n",
    "# Load the data into a structured array\n",
    "dtype = [('product_id', int), ('quantity_sold', int), ('price_per_unit', float), ('date_of_sale', 'datetime64[D]')]\n",
    "data = np.genfromtxt('sales.csv', delimiter=',', dtype=dtype, names=True)\n",
    "\n",
    "# Step 2: Calculate the total sales for each product\n",
    "total_product_sales = data['quantity_sold'] * data['price_per_unit']\n",
    "\n",
    "# Step 3: Find the product with the highest total sales\n",
    "best_selling_product = data['product_id'][np.argmax(total_product_sales)]\n",
    "max_sales = np.max(total_product_sales)\n",
    "\n",
    "# Step 4: Calculate the total sales for each day\n",
    "unique_dates = np.unique(data['date_of_sale'])\n",
    "daily_sales = np.array([np.sum(total_product_sales[data['date_of_sale'] == date]) for date in unique_dates])\n",
    "\n",
    "# Print the results\n",
    "print(\"Total sales for each product:\")\n",
    "print(total_product_sales)\n",
    "print(\"\\nProduct with the highest total sales:\")\n",
    "print(f\"Product ID: {best_selling_product}, Total Sales: {max_sales:.2f}\")\n",
    "print(\"\\nTotal sales for each day:\")\n",
    "for date, sales in zip(unique_dates, daily_sales):\n",
    "    print(f\"{date}: {sales:.2f}\")\n"
   ]
  },
  {
   "cell_type": "code",
   "execution_count": null,
   "id": "0f0da0a5-b283-4ab4-b057-8562bd5c3947",
   "metadata": {},
   "outputs": [],
   "source": []
  }
 ],
 "metadata": {
  "kernelspec": {
   "display_name": "Python 3 (ipykernel)",
   "language": "python",
   "name": "python3"
  },
  "language_info": {
   "codemirror_mode": {
    "name": "ipython",
    "version": 3
   },
   "file_extension": ".py",
   "mimetype": "text/x-python",
   "name": "python",
   "nbconvert_exporter": "python",
   "pygments_lexer": "ipython3",
   "version": "3.11.5"
  }
 },
 "nbformat": 4,
 "nbformat_minor": 5
}
