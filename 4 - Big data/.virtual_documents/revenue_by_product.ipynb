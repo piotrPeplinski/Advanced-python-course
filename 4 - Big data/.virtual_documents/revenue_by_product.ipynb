


import sys
!{sys.executable} -m pip install pandas matplotlib





import pandas as pd

df = pd.read_csv('data/data.csv')


df['Revenue'] = df['Price'] * df['Quantity']
rev_by_product = df.groupby('Product')['Revenue'].sum().reset_index()
rev_by_product


import matplotlib.pyplot as plt

chart = plt.pie(rev_by_product['Revenue'], labels=rev_by_product['Product'])



