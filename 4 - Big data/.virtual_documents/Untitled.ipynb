


import sys
!{sys.executable} -m pip install pandas matplotlib



