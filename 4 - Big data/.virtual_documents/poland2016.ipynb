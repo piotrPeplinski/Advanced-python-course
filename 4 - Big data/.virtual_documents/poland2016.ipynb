


import pandas as pd
import matplotlib.pyplot as plt


df = pd.read_csv('data/salaries.csv')
df


df['Date_Of_Payment'] = pd.to_datetime(df['Date_Of_Payment'])
poland_2016 = df[(df['Date_Of_Payment'].dt.year==2016) & (df['Country']=='Poland')]
poland_2016


monthly_expenses = poland_2016.groupby(poland_2016['Date_Of_Payment'].dt.strftime('%B'))['Monthly_Salary'].sum()
#monthly_expenses = poland_2016.groupby(poland_2016['Date_Of_Payment'].dt.month)['Monthly_Salary'].sum()
month_order = [
    'January', 'February', 'March', 'April', 'May', 'June',
    'July', 'August', 'September', 'October', 'November', 'December'
]
monthly_expenses


plt.figure(figsize=(10,6))
#monthly_expenses.plot(kind='bar')
monthly_expenses[month_order].plot(kind='bar')
plt.xticks(rotation=45)
plt.show()



