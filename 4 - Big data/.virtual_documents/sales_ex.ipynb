import numpy as np


dtype = [('product_id', int),('quantity_sold', int),('price_per_unit', float), ('date_of_sale', 'datetime64[D]')]
sales_info = np.genfromtxt('data/sales.csv', delimiter=',', dtype=dtype, names=True)
sales_info


total_product_sales = sales_info['quantity_sold'] * sales_info['price_per_unit']
total_product_sales


highest = np.argmax(total_product_sales)

highest_revenue = sales_info['product_id'][highest]
highest_revenue


dates = np.unique(sales_info['date_of_sale'])
dates


list_expression = [
    np.sum(total_product_sales[sales_info['date_of_sale']==date])
    for date in dates
]
list_expression



