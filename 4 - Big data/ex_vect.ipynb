{
 "cells": [
  {
   "cell_type": "code",
   "execution_count": 1,
   "id": "e5191c56-7af0-4c09-856f-7f1b58a0e065",
   "metadata": {},
   "outputs": [],
   "source": [
    "import numpy as np"
   ]
  },
  {
   "cell_type": "code",
   "execution_count": 2,
   "id": "f058e1e1-bd92-40d5-b232-e2b064cc3276",
   "metadata": {},
   "outputs": [
    {
     "name": "stdout",
     "output_type": "stream",
     "text": [
      "[ 7  8  9 10 11]\n"
     ]
    }
   ],
   "source": [
    "array1 = np.array([1,2,3,4,5])\n",
    "bonus = 6\n",
    "print(array1 + 6)\n"
   ]
  },
  {
   "cell_type": "code",
   "execution_count": 5,
   "id": "8d279f27-7b04-4404-b1b7-b8e2eec79b91",
   "metadata": {},
   "outputs": [
    {
     "data": {
      "text/plain": [
       "array([[ 6000,  6000, 10000],\n",
       "       [ 3000,  8000,  6000]])"
      ]
     },
     "execution_count": 5,
     "metadata": {},
     "output_type": "execute_result"
    }
   ],
   "source": [
    "january = np.array([[2000,1000,3000], [1500,4000,3000]])\n",
    "feb = np.array([[4000,5000,7000], [1500,4000,3000]])\n",
    "\n",
    "yearly = january + feb\n",
    "yearly"
   ]
  },
  {
   "cell_type": "code",
   "execution_count": 6,
   "id": "9608d6cb-531b-453d-856f-2b58aeccb24c",
   "metadata": {},
   "outputs": [
    {
     "data": {
      "text/plain": [
       "4.887580871582031e-05"
      ]
     },
     "execution_count": 6,
     "metadata": {},
     "output_type": "execute_result"
    }
   ],
   "source": [
    "import time\n",
    "\n",
    "start = time.time()\n",
    "numbers = [4,5,6,7,8]\n",
    "\n",
    "for index in range(len(numbers)):\n",
    "    numbers[index]+=10\n",
    "\n",
    "end = time.time()\n",
    "\n",
    "end-start"
   ]
  },
  {
   "cell_type": "code",
   "execution_count": 8,
   "id": "a36458fc-4292-4981-aeae-8d50f3c8326a",
   "metadata": {},
   "outputs": [
    {
     "data": {
      "text/plain": [
       "0.0001437664031982422"
      ]
     },
     "execution_count": 8,
     "metadata": {},
     "output_type": "execute_result"
    }
   ],
   "source": [
    "start = time.time()\n",
    "\n",
    "array = np.array([4,5,6,7,8])\n",
    "\n",
    "result = array + 10\n",
    "\n",
    "end = time.time()\n",
    "\n",
    "end -start"
   ]
  },
  {
   "cell_type": "code",
   "execution_count": 13,
   "id": "7cb70c16-afaf-44d1-8043-6703d5b71427",
   "metadata": {},
   "outputs": [
    {
     "name": "stdout",
     "output_type": "stream",
     "text": [
      "[0, 0.0, 3.0, 4.0, 8.0] Loop took 3.814697265625e-05\n"
     ]
    }
   ],
   "source": [
    "from math import sqrt\n",
    "\n",
    "numbers = [-2,0,9,16,64]\n",
    "sqrt_numbers = []\n",
    "\n",
    "array = np.array([-2,0,9,16,64])\n",
    "\n",
    "def sqrt_func(x):\n",
    "    if x >=0:\n",
    "        return sqrt(x)\n",
    "    else:\n",
    "        return 0\n",
    "\n",
    "start = time.time()\n",
    "for number in numbers:\n",
    "    sqrt_numbers.append(sqrt_func(number))\n",
    "end = time.time()\n",
    "print(sqrt_numbers, f'Loop took {end-start}')"
   ]
  },
  {
   "cell_type": "code",
   "execution_count": 15,
   "id": "9c9944ba-0ae4-499c-9e84-983329f616e8",
   "metadata": {},
   "outputs": [
    {
     "name": "stdout",
     "output_type": "stream",
     "text": [
      "[0 0 3 4 8] Vectorization took 0.00033473968505859375\n"
     ]
    }
   ],
   "source": [
    "\n",
    "vectorized_sqrt = np.vectorize(sqrt_func)\n",
    "start = time.time()\n",
    "result = vectorized_sqrt(array)\n",
    "end = time.time()\n",
    "print(result, f'Vectorization took {end-start}')\n"
   ]
  },
  {
   "cell_type": "code",
   "execution_count": null,
   "id": "ad41e2ce-38e4-4904-89cf-1418d20051fe",
   "metadata": {},
   "outputs": [],
   "source": []
  }
 ],
 "metadata": {
  "kernelspec": {
   "display_name": "Python 3 (ipykernel)",
   "language": "python",
   "name": "python3"
  },
  "language_info": {
   "codemirror_mode": {
    "name": "ipython",
    "version": 3
   },
   "file_extension": ".py",
   "mimetype": "text/x-python",
   "name": "python",
   "nbconvert_exporter": "python",
   "pygments_lexer": "ipython3",
   "version": "3.11.5"
  }
 },
 "nbformat": 4,
 "nbformat_minor": 5
}
